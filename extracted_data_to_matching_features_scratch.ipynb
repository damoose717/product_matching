{
 "cells": [
  {
   "cell_type": "code",
   "execution_count": null,
   "metadata": {},
   "outputs": [],
   "source": [
    "import pandas as pd\n",
    "import numpy as np\n",
    "\n",
    "pd.set_option('max_columns', 30)"
   ]
  },
  {
   "cell_type": "code",
   "execution_count": null,
   "metadata": {},
   "outputs": [],
   "source": [
    "matching_features = pd.read_csv('2-matching_features_final.csv')\n",
    "extracted_data = pd.read_csv('1-extracted_data_final.csv')\n"
   ]
  },
  {
   "cell_type": "code",
   "execution_count": null,
   "metadata": {},
   "outputs": [],
   "source": [
    "extracted_data.shape\n"
   ]
  },
  {
   "cell_type": "code",
   "execution_count": null,
   "metadata": {},
   "outputs": [],
   "source": [
    "set(matching_features.columns).difference(set(extracted_data.columns))\n"
   ]
  },
  {
   "cell_type": "code",
   "execution_count": null,
   "metadata": {},
   "outputs": [],
   "source": [
    "extracted_data\n"
   ]
  },
  {
   "cell_type": "code",
   "execution_count": null,
   "metadata": {},
   "outputs": [],
   "source": [
    "matching_features\n"
   ]
  },
  {
   "cell_type": "code",
   "execution_count": null,
   "metadata": {},
   "outputs": [],
   "source": [
    "matching_features.drop_duplicates('_id')"
   ]
  },
  {
   "cell_type": "code",
   "execution_count": null,
   "metadata": {},
   "outputs": [],
   "source": [
    "matching_features.columns"
   ]
  },
  {
   "cell_type": "code",
   "execution_count": null,
   "metadata": {},
   "outputs": [],
   "source": []
  },
  {
   "cell_type": "code",
   "execution_count": null,
   "metadata": {},
   "outputs": [],
   "source": [
    "joined = extracted_data.merge(matching_features, on = '_id')\n",
    "joined = joined.drop([col for col in joined.columns if col.endswith('_y')], axis = 1)\n",
    "joined\n"
   ]
  },
  {
   "cell_type": "code",
   "execution_count": null,
   "metadata": {},
   "outputs": [],
   "source": [
    "joined.dtypes\n"
   ]
  },
  {
   "cell_type": "code",
   "execution_count": null,
   "metadata": {
    "scrolled": true
   },
   "outputs": [],
   "source": [
    "joined['helper'] = (joined['price'] == joined['price_value_blended'])\n",
    "joined['helper'].value_counts()\n"
   ]
  },
  {
   "cell_type": "code",
   "execution_count": null,
   "metadata": {
    "scrolled": true
   },
   "outputs": [],
   "source": [
    "joined[joined['helper'] == False][['price', 'price_value_blended']].drop_duplicates()"
   ]
  },
  {
   "cell_type": "code",
   "execution_count": null,
   "metadata": {},
   "outputs": [],
   "source": [
    "joined['helper'] = (joined['package'] == joined['package_value'])\n",
    "joined['helper'].value_counts()\n"
   ]
  },
  {
   "cell_type": "code",
   "execution_count": null,
   "metadata": {
    "scrolled": true
   },
   "outputs": [],
   "source": [
    "joined[joined['helper'] == False][['package', 'package_value']].drop_duplicates()"
   ]
  },
  {
   "cell_type": "code",
   "execution_count": null,
   "metadata": {},
   "outputs": [],
   "source": []
  },
  {
   "cell_type": "code",
   "execution_count": null,
   "metadata": {
    "scrolled": true
   },
   "outputs": [],
   "source": [
    "joined['thc_weight'].value_counts()"
   ]
  },
  {
   "cell_type": "code",
   "execution_count": null,
   "metadata": {},
   "outputs": [],
   "source": []
  },
  {
   "cell_type": "code",
   "execution_count": null,
   "metadata": {},
   "outputs": [],
   "source": []
  },
  {
   "cell_type": "code",
   "execution_count": null,
   "metadata": {},
   "outputs": [],
   "source": [
    "def develop_matching_features(extracted_data_path: str) -> pd.DataFrame:\n",
    "    \"\"\"This function takes the path of the exctracted_data csv file as a string \n",
    "    and returns the matching_features as a Pandas dataframe.\"\"\"\n",
    "    \n",
    "    extracted_data = pd.read_csv(extracted_data_path)\n",
    "    \n",
    "    # get price from price_value_blended\n",
    "    extracted_data['price'] = extracted_data['price_value_blended']\n",
    "    \n",
    "    # get package from package_value\n",
    "    extracted_data['package'] = extracted_data['package_value']\n",
    "    \n",
    "    # get thc_weight from cannabinoid_thc_value and adding units of mg\n",
    "    extracted_data['thc_weight'] = extracted_data.apply(\n",
    "        lambda x: float('nan')\n",
    "            if np.isnan(x['cannabinoid_thc_value'])\n",
    "            else str(int(x['cannabinoid_thc_value'])) + 'mg'\n",
    "        , axis = 1)\n",
    "    \n",
    "    # get cbd_weight from cannabinoid_cbd_value and adding units of mg\n",
    "    extracted_data['cbd_weight'] = extracted_data.apply(\n",
    "        lambda x: float('nan')\n",
    "            if np.isnan(x['cannabinoid_cbd_value'])\n",
    "            else str(int(x['cannabinoid_cbd_value'])) + 'mg'\n",
    "        , axis = 1)\n",
    "    \n",
    "    # get id_product from brand_name and flavor_ingestibles \n",
    "    extracted_data['id_product'] = (extracted_data['brand_name'] + \n",
    "                                    '-' + \n",
    "                                    extracted_data['flavor_ingestibles']\n",
    "                                   ).str.replace(' ', '-').str.replace('\\'', '')\n",
    "    \n",
    "    # remove hyphens from brand_name\n",
    "    extracted_data['brand_name'] = extracted_data['brand_name'].str.replace('-', '')\n",
    "    # replace nan with smokiez TODO FIX THIS\n",
    "    extracted_data['brand_name'] == np.where(\n",
    "        extracted_data['brand_name'].isna()\n",
    "        , 'smokiez'\n",
    "        , extracted_data['brand_name']\n",
    "    )\n",
    "    # rename stiiizy to stiizy \n",
    "    extracted_data['brand_name'] = extracted_data['brand_name'].str.replace(\n",
    "        'stiiizy', 'stiizy')\n",
    "    # rename smokiez edibles to smokiez \n",
    "    extracted_data['brand_name'] = extracted_data['brand_name'].str.replace(\n",
    "        'smokiez edibles', 'smokiez')\n",
    "    \n",
    "    # flavor_ingestibles fixes\n",
    "    extracted_data['flavor_ingestibles'] = extracted_data['flavor_ingestibles'].str.replace(\n",
    "        'ñ', 'n')\n",
    "    extracted_data['flavor_ingestibles'] = extracted_data['flavor_ingestibles'].str.replace(\n",
    "        'sour blue raspberry', 'blue raspberry')\n",
    "    extracted_data['flavor_ingestibles'] = extracted_data['flavor_ingestibles'].str.replace(\n",
    "        'root beer float', 'rootbeer float')    \n",
    "    extracted_data['flavor_ingestibles'] = extracted_data['flavor_ingestibles'].str.replace(\n",
    "        'assorted', 'assorted flavors') \n",
    "#     extracted_data['flavor_ingestibles'] = extracted_data['flavor_ingestibles'].str.replace(\n",
    "#         'watermelon', 'sweet watermelon') \n",
    "    extracted_data['flavor_ingestibles'] = extracted_data['flavor_ingestibles'].str.replace(\n",
    "        'cocoa banana cream pie', 'banana cream pie') \n",
    "    extracted_data['flavor_ingestibles'] = extracted_data['flavor_ingestibles'].str.replace(\n",
    "        'tropical fruit', 'tropical') \n",
    "    extracted_data['flavor_ingestibles'] = extracted_data['flavor_ingestibles'].str.replace(\n",
    "        'sour blackberry', 'blackberry') \n",
    "    extracted_data['flavor_ingestibles'] = extracted_data['flavor_ingestibles'].str.replace(\n",
    "        'rainbow sorbet', 'rainbow sherbet') \n",
    "    extracted_data['flavor_ingestibles'] = extracted_data['flavor_ingestibles'].str.replace(\n",
    "        'plum', 'indica plum') \n",
    "    extracted_data['flavor_ingestibles'] = extracted_data['flavor_ingestibles'].str.replace(\n",
    "        'chile lime', 'mango & chile lime') \n",
    "#     extracted_data['flavor_ingestibles'] = extracted_data['flavor_ingestibles'].str.replace(\n",
    "#         'peach', 'sour peach') \n",
    "#     extracted_data['flavor_ingestibles'] = extracted_data['flavor_ingestibles'].str.replace(\n",
    "#         'pineapple mango', 'spicy pineapple mango') \n",
    "#     extracted_data['flavor_ingestibles'] = extracted_data['flavor_ingestibles'].str.replace(\n",
    "#         'mango | pineapple', 'spicy pineapple mango') \n",
    "#     extracted_data['flavor_ingestibles'] = extracted_data['flavor_ingestibles'].str.replace(\n",
    "#         'blueberry', 'blueberry lemonade') \n",
    "#     extracted_data['flavor_ingestibles'] = extracted_data['flavor_ingestibles'].str.replace(\n",
    "#         'strawberry', 'sativa strawberry') \n",
    "    \n",
    "    # reorder columns\n",
    "    extracted_data = extracted_data[['_id'\n",
    "                                      , 'brand_name'\n",
    "                                      , 'flavor_ingestibles'\n",
    "                                      , 'thc_weight'\n",
    "                                      , 'cbd_weight'\n",
    "                                      , 'cannabis_strain_type'\n",
    "                                      , 'price'\n",
    "                                      , 'package'\n",
    "                                      , 'day_report_date'\n",
    "                                      , 'data_source_name'\n",
    "                                      , 'product_slug'\n",
    "                                      , 'id_product']]\n",
    "    \n",
    "    return extracted_data\n",
    "    \n",
    "    "
   ]
  },
  {
   "cell_type": "code",
   "execution_count": null,
   "metadata": {
    "scrolled": true
   },
   "outputs": [],
   "source": [
    "test = develop_matching_features('1-extracted_data_final.csv')\n",
    "test\n"
   ]
  },
  {
   "cell_type": "code",
   "execution_count": null,
   "metadata": {},
   "outputs": [],
   "source": []
  },
  {
   "cell_type": "code",
   "execution_count": null,
   "metadata": {
    "scrolled": true
   },
   "outputs": [],
   "source": [
    "joined = test.merge(matching_features, on = '_id')\n",
    "joined\n"
   ]
  },
  {
   "cell_type": "code",
   "execution_count": null,
   "metadata": {
    "scrolled": true
   },
   "outputs": [],
   "source": [
    "joined['helper'] = joined['flavor_ingestibles_x'] == matching_features['flavor_ingestibles']\n",
    "joined[joined['helper'] == False][[col for col in joined.columns if 'flavor_ingestibles' in col \n",
    "                                   or '_id' in col]]"
   ]
  },
  {
   "cell_type": "code",
   "execution_count": null,
   "metadata": {
    "scrolled": true
   },
   "outputs": [],
   "source": [
    "joined[(joined['helper'] == False) & joined['brand_name_x'].isna()][\n",
    "    [col for col in joined.columns if 'brand_name' in col]\n",
    "]['brand_name_y'].value_counts()"
   ]
  },
  {
   "cell_type": "code",
   "execution_count": null,
   "metadata": {},
   "outputs": [],
   "source": []
  },
  {
   "cell_type": "code",
   "execution_count": null,
   "metadata": {},
   "outputs": [],
   "source": [
    "joined.dtypes"
   ]
  },
  {
   "cell_type": "code",
   "execution_count": null,
   "metadata": {},
   "outputs": [],
   "source": [
    "def test_develop_matching_features():\n",
    "    expected = pd.read_csv('2-matching_features_final.csv').drop(\n",
    "        columns = ['id_product', 'brand_name', 'flavor_ingestibles']\n",
    "    ).sort_values('_id').reset_index(drop = True)\n",
    "    \n",
    "    actual = develop_matching_features('1-extracted_data_final.csv').drop(\n",
    "        columns = ['id_product', 'brand_name', 'flavor_ingestibles']\n",
    "    ).sort_values('_id').reset_index(drop = True)\n",
    "    \n",
    "    pd.testing.assert_frame_equal(expected, actual)\n",
    "    "
   ]
  },
  {
   "cell_type": "code",
   "execution_count": null,
   "metadata": {
    "scrolled": true
   },
   "outputs": [],
   "source": [
    "test_develop_matching_features()"
   ]
  },
  {
   "cell_type": "code",
   "execution_count": null,
   "metadata": {},
   "outputs": [],
   "source": []
  },
  {
   "cell_type": "code",
   "execution_count": null,
   "metadata": {},
   "outputs": [],
   "source": []
  },
  {
   "cell_type": "code",
   "execution_count": null,
   "metadata": {},
   "outputs": [],
   "source": []
  },
  {
   "cell_type": "code",
   "execution_count": null,
   "metadata": {},
   "outputs": [],
   "source": []
  },
  {
   "cell_type": "code",
   "execution_count": null,
   "metadata": {},
   "outputs": [],
   "source": []
  },
  {
   "cell_type": "code",
   "execution_count": null,
   "metadata": {},
   "outputs": [],
   "source": []
  }
 ],
 "metadata": {
  "kernelspec": {
   "display_name": "Python 3",
   "language": "python",
   "name": "python3"
  },
  "language_info": {
   "codemirror_mode": {
    "name": "ipython",
    "version": 3
   },
   "file_extension": ".py",
   "mimetype": "text/x-python",
   "name": "python",
   "nbconvert_exporter": "python",
   "pygments_lexer": "ipython3",
   "version": "3.6.5"
  }
 },
 "nbformat": 4,
 "nbformat_minor": 2
}
