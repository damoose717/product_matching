{
 "cells": [
  {
   "cell_type": "code",
   "execution_count": null,
   "metadata": {},
   "outputs": [],
   "source": [
    "import pandas as pd\n",
    "import numpy as np\n",
    "\n",
    "pd.set_option('max_columns', 30)"
   ]
  },
  {
   "cell_type": "code",
   "execution_count": null,
   "metadata": {},
   "outputs": [],
   "source": [
    "matching_features = pd.read_csv('2-matching_features_final.csv')\n",
    "matched_data = pd.read_csv('3-matched_data_final.csv')\n"
   ]
  },
  {
   "cell_type": "code",
   "execution_count": null,
   "metadata": {},
   "outputs": [],
   "source": [
    "matching_features.shape\n"
   ]
  },
  {
   "cell_type": "code",
   "execution_count": null,
   "metadata": {},
   "outputs": [],
   "source": [
    "set(matched_data.columns).difference(set(matching_features.columns))\n"
   ]
  },
  {
   "cell_type": "code",
   "execution_count": null,
   "metadata": {},
   "outputs": [],
   "source": [
    "matching_features\n"
   ]
  },
  {
   "cell_type": "code",
   "execution_count": null,
   "metadata": {},
   "outputs": [],
   "source": [
    "matched_data\n"
   ]
  },
  {
   "cell_type": "code",
   "execution_count": null,
   "metadata": {
    "scrolled": true
   },
   "outputs": [],
   "source": [
    "matched_data.cbd_weight.value_counts()"
   ]
  },
  {
   "cell_type": "code",
   "execution_count": null,
   "metadata": {},
   "outputs": [],
   "source": [
    "matched_data[matched_data['brand'] == 'plus'][['brand', 'strain_type']].drop_duplicates()"
   ]
  },
  {
   "cell_type": "code",
   "execution_count": null,
   "metadata": {},
   "outputs": [],
   "source": [
    "matched_data.columns"
   ]
  },
  {
   "cell_type": "code",
   "execution_count": null,
   "metadata": {
    "scrolled": true
   },
   "outputs": [],
   "source": [
    "matched_data._id_product_match.value_counts()"
   ]
  },
  {
   "cell_type": "code",
   "execution_count": null,
   "metadata": {},
   "outputs": [],
   "source": []
  },
  {
   "cell_type": "code",
   "execution_count": null,
   "metadata": {
    "scrolled": true
   },
   "outputs": [],
   "source": [
    "joined = matching_features.merge(matched_data, on = '_id')\n",
    "joined = joined.drop([col for col in joined.columns if col.endswith('_y')], axis = 1)\n",
    "joined\n"
   ]
  },
  {
   "cell_type": "code",
   "execution_count": null,
   "metadata": {},
   "outputs": [],
   "source": [
    "joined.dtypes\n"
   ]
  },
  {
   "cell_type": "code",
   "execution_count": null,
   "metadata": {},
   "outputs": [],
   "source": []
  },
  {
   "cell_type": "code",
   "execution_count": null,
   "metadata": {},
   "outputs": [],
   "source": [
    "def develop_matched_data(matching_features_path: str) -> pd.DataFrame:\n",
    "    \"\"\"This function takes the path of the matching_features csv file as a string \n",
    "    and returns the matched_data as a Pandas dataframe.\"\"\"\n",
    "    \n",
    "    matching_features = pd.read_csv(matching_features_path)\n",
    "    \n",
    "    matching_features['brand'] = matching_features['brand_name']\n",
    "    matching_features['flavor'] = matching_features['flavor_ingestibles']\n",
    "    matching_features['strain_type'] = matching_features['cannabis_strain_type']\n",
    "\n",
    "    matching_features['product_name_line'] = np.nan\n",
    "    \n",
    "    matching_features['cbd_weight'] = matching_features['cbd_weight'] + ' cbd'\n",
    "    matching_features['thc_weight'] = matching_features['thc_weight'] + ' thc'\n",
    "\n",
    "    # get id_product_match from brand_name and flavor_ingestibles \n",
    "    matching_features['_id_product_match'] = (matching_features['brand_name'] + \n",
    "                                    '-' + \n",
    "                                    matching_features['flavor_ingestibles']\n",
    "                                   ).str.replace(' ', '-').str.replace('\\'', '')\n",
    "    id_product_match_dict = {x: i for i, x in \n",
    "                             enumerate(set(matching_features['_id_product_match']))}\n",
    "    matching_features = matching_features.replace({'_id_product_match': \n",
    "                                                   id_product_match_dict})\n",
    "\n",
    "    matching_features = matching_features[['_id'\n",
    "                                           , '_id_product_match'\n",
    "                                           , 'brand'\n",
    "                                           , 'flavor'\n",
    "                                           , 'thc_weight'\n",
    "                                           , 'cbd_weight'\n",
    "                                           , 'strain_type'\n",
    "                                           , 'day_report_date'\n",
    "                                           , 'product_slug'\n",
    "                                           , 'price'\n",
    "                                           , 'data_source_name'\n",
    "                                           , 'product_name_line']]\n",
    "   \n",
    "    return matching_features\n",
    "    \n",
    "    "
   ]
  },
  {
   "cell_type": "code",
   "execution_count": null,
   "metadata": {
    "scrolled": true
   },
   "outputs": [],
   "source": [
    "test = develop_matched_data('2-matching_features_final.csv')\n",
    "test\n"
   ]
  },
  {
   "cell_type": "code",
   "execution_count": null,
   "metadata": {},
   "outputs": [],
   "source": []
  },
  {
   "cell_type": "code",
   "execution_count": null,
   "metadata": {
    "scrolled": true
   },
   "outputs": [],
   "source": [
    "joined = test.merge(matching_features, on = '_id')\n",
    "joined\n"
   ]
  },
  {
   "cell_type": "code",
   "execution_count": null,
   "metadata": {
    "scrolled": true
   },
   "outputs": [],
   "source": [
    "joined[joined['strain_type'] != joined['cannabis_strain_type']][\n",
    "    ['_id', 'strain_type', 'cannabis_strain_type']]\n"
   ]
  },
  {
   "cell_type": "code",
   "execution_count": null,
   "metadata": {},
   "outputs": [],
   "source": []
  },
  {
   "cell_type": "code",
   "execution_count": null,
   "metadata": {},
   "outputs": [],
   "source": [
    "joined.dtypes"
   ]
  },
  {
   "cell_type": "code",
   "execution_count": null,
   "metadata": {},
   "outputs": [],
   "source": [
    "def test_develop_matched_data():\n",
    "    expected = pd.read_csv('3-matched_data_final.csv').drop(\n",
    "        columns = ['_id_product_match', 'cbd_weight', 'strain_type']\n",
    "    ).sort_values('_id').reset_index(drop = True)\n",
    "    \n",
    "    actual = develop_matched_data('2-matching_features_final.csv').drop(\n",
    "        columns = ['_id_product_match', 'cbd_weight', 'strain_type']\n",
    "    ).sort_values('_id').reset_index(drop = True)\n",
    "    \n",
    "    pd.testing.assert_frame_equal(expected, actual)\n",
    "    "
   ]
  },
  {
   "cell_type": "code",
   "execution_count": null,
   "metadata": {
    "scrolled": true
   },
   "outputs": [],
   "source": [
    "test_develop_matched_data()"
   ]
  },
  {
   "cell_type": "code",
   "execution_count": null,
   "metadata": {},
   "outputs": [],
   "source": []
  },
  {
   "cell_type": "code",
   "execution_count": null,
   "metadata": {},
   "outputs": [],
   "source": []
  },
  {
   "cell_type": "code",
   "execution_count": null,
   "metadata": {},
   "outputs": [],
   "source": []
  },
  {
   "cell_type": "code",
   "execution_count": null,
   "metadata": {},
   "outputs": [],
   "source": []
  },
  {
   "cell_type": "code",
   "execution_count": null,
   "metadata": {},
   "outputs": [],
   "source": []
  },
  {
   "cell_type": "code",
   "execution_count": null,
   "metadata": {},
   "outputs": [],
   "source": []
  }
 ],
 "metadata": {
  "kernelspec": {
   "display_name": "Python 3",
   "language": "python",
   "name": "python3"
  },
  "language_info": {
   "codemirror_mode": {
    "name": "ipython",
    "version": 3
   },
   "file_extension": ".py",
   "mimetype": "text/x-python",
   "name": "python",
   "nbconvert_exporter": "python",
   "pygments_lexer": "ipython3",
   "version": "3.6.5"
  }
 },
 "nbformat": 4,
 "nbformat_minor": 2
}
